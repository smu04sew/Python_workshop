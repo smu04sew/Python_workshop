{
 "cells": [
  {
   "cell_type": "markdown",
   "metadata": {},
   "source": [
    "# Basic Programming Using Python: Making Decisions"
   ]
  },
  {
   "cell_type": "markdown",
   "metadata": {},
   "source": [
    "## Changing Colors"
   ]
  },
  {
   "cell_type": "markdown",
   "metadata": {},
   "source": [
    "Let's create another grid and color a few cells:"
   ]
  },
  {
   "cell_type": "code",
   "execution_count": 26,
   "metadata": {
    "collapsed": false
   },
   "outputs": [
    {
     "data": {
      "text/html": [
       "<style type=\"text/css\">table.blockgrid {border: none;} .blockgrid tr {border: none;} .blockgrid td {padding: 0px;} #blocksf89c300f-72eb-4ac9-8383-82ae3462bdd5 td {border: 1px solid white;}</style><table id=\"blocksf89c300f-72eb-4ac9-8383-82ae3462bdd5\" class=\"blockgrid\"><tbody><tr><td title=\"Index: [0, 0]&#10;Color: (0, 0, 0)\" style=\"width: 20px; height: 20px;background-color: rgb(0, 0, 0);\"></td><td title=\"Index: [1, 0]&#10;Color: (218, 112, 214)\" style=\"width: 20px; height: 20px;background-color: rgb(218, 112, 214);\"></td><td title=\"Index: [2, 0]&#10;Color: (0, 0, 0)\" style=\"width: 20px; height: 20px;background-color: rgb(0, 0, 0);\"></td><td title=\"Index: [3, 0]&#10;Color: (0, 0, 0)\" style=\"width: 20px; height: 20px;background-color: rgb(0, 0, 0);\"></td><td title=\"Index: [4, 0]&#10;Color: (0, 0, 0)\" style=\"width: 20px; height: 20px;background-color: rgb(0, 0, 0);\"></td><td title=\"Index: [5, 0]&#10;Color: (218, 112, 214)\" style=\"width: 20px; height: 20px;background-color: rgb(218, 112, 214);\"></td></tr></tbody></table>"
      ],
      "text/plain": [
       "<IPython.core.display.HTML object>"
      ]
     },
     "metadata": {},
     "output_type": "display_data"
    }
   ],
   "source": [
    "from ipythonblocks import ImageGrid, colors # import both at the same time\n",
    "row = ImageGrid(6, 1)\n",
    "row[1, 0] = colors['Orchid']\n",
    "row[5, 0] = colors['Orchid']\n",
    "row.show()"
   ]
  },
  {
   "cell_type": "markdown",
   "metadata": {},
   "source": [
    "Suppose we want to invert these colors,\n",
    "i.e.,\n",
    "turn every black cell orchid,\n",
    "and every orchid cell black.\n",
    "We could do this directly,\n",
    "but if we want to do the operation frequently,\n",
    "on many different images,\n",
    "we ought to write a function,\n",
    "and that function ought to work equally well on this grid:"
   ]
  },
  {
   "cell_type": "code",
   "execution_count": 27,
   "metadata": {
    "collapsed": false
   },
   "outputs": [
    {
     "data": {
      "text/html": [
       "<style type=\"text/css\">table.blockgrid {border: none;} .blockgrid tr {border: none;} .blockgrid td {padding: 0px;} #blockse765a661-6345-4962-b329-b0955e8914eb td {border: 1px solid white;}</style><table id=\"blockse765a661-6345-4962-b329-b0955e8914eb\" class=\"blockgrid\"><tbody><tr><td title=\"Index: [0, 0]&#10;Color: (218, 112, 214)\" style=\"width: 20px; height: 20px;background-color: rgb(218, 112, 214);\"></td><td title=\"Index: [1, 0]&#10;Color: (218, 112, 214)\" style=\"width: 20px; height: 20px;background-color: rgb(218, 112, 214);\"></td><td title=\"Index: [2, 0]&#10;Color: (0, 0, 0)\" style=\"width: 20px; height: 20px;background-color: rgb(0, 0, 0);\"></td><td title=\"Index: [3, 0]&#10;Color: (218, 112, 214)\" style=\"width: 20px; height: 20px;background-color: rgb(218, 112, 214);\"></td><td title=\"Index: [4, 0]&#10;Color: (0, 0, 0)\" style=\"width: 20px; height: 20px;background-color: rgb(0, 0, 0);\"></td><td title=\"Index: [5, 0]&#10;Color: (0, 0, 0)\" style=\"width: 20px; height: 20px;background-color: rgb(0, 0, 0);\"></td><td title=\"Index: [6, 0]&#10;Color: (0, 0, 0)\" style=\"width: 20px; height: 20px;background-color: rgb(0, 0, 0);\"></td><td title=\"Index: [7, 0]&#10;Color: (0, 0, 0)\" style=\"width: 20px; height: 20px;background-color: rgb(0, 0, 0);\"></td></tr></tbody></table>"
      ],
      "text/plain": [
       "<IPython.core.display.HTML object>"
      ]
     },
     "metadata": {},
     "output_type": "display_data"
    }
   ],
   "source": [
    "another_row = ImageGrid(8, 1)\n",
    "another_row[0, 0] = colors['Orchid']\n",
    "another_row[1, 0] = colors['Orchid']\n",
    "another_row[3, 0] = colors['Orchid']\n",
    "another_row.show()"
   ]
  },
  {
   "cell_type": "markdown",
   "metadata": {},
   "source": [
    "What we really want is a way for the computer to make decisions based on the data it is processing.\n",
    "The tool that does that is the conditional statement,\n",
    "often called an \"if statement\" because of how it's written:"
   ]
  },
  {
   "cell_type": "code",
   "execution_count": 28,
   "metadata": {
    "collapsed": false
   },
   "outputs": [
    {
     "name": "stdout",
     "output_type": "stream",
     "text": [
      "5 is greater than 0\n"
     ]
    }
   ],
   "source": [
    "if 5 > 0:\n",
    "    print '5 is greater than 0'\n",
    "if 5 < 0:\n",
    "    print '5 should not be less than 0'"
   ]
  },
  {
   "cell_type": "markdown",
   "metadata": {},
   "source": [
    "A conditional statement starts with the word `if`,\n",
    "followed by an expression that can be either true or false.\n",
    "If the expression is true,\n",
    "Python executes the block of code underneath the `if`;\n",
    "if it's false,\n",
    "Python skips that block:"
   ]
  },
  {
   "cell_type": "markdown",
   "metadata": {},
   "source": [
    "We often want to do one thing when a condition is true,\n",
    "and another thing when the condition is false,\n",
    "so Python allows us to attach an `else` to an `if` like this:"
   ]
  },
  {
   "cell_type": "code",
   "execution_count": 29,
   "metadata": {
    "collapsed": false
   },
   "outputs": [
    {
     "name": "stdout",
     "output_type": "stream",
     "text": [
      "whoops: \"abc\" should be less than \"xyz\"\n"
     ]
    }
   ],
   "source": [
    "abc = 'abc'\n",
    "if 'a' == 'a':\n",
    "    print 'whoops: \"abc\" should be less than \"xyz\"'\n",
    "else:\n",
    "    print 'correct: \"abc\" is less than \"xyz\"'"
   ]
  },
  {
   "cell_type": "code",
   "execution_count": 30,
   "metadata": {
    "collapsed": false
   },
   "outputs": [
    {
     "name": "stdout",
     "output_type": "stream",
     "text": [
      "not greater\n",
      "done\n"
     ]
    }
   ],
   "source": [
    "num = 37\n",
    "if num > 100:\n",
    "    print 'greater'\n",
    "else:\n",
    "    print 'not greater'\n",
    "print 'done'"
   ]
  },
  {
   "cell_type": "markdown",
   "metadata": {},
   "source": [
    "The second line of this code uses the keyword `if` to tell Python that we want to make a choice.\n",
    "If the test that follows it is true,\n",
    "the body of the `if`\n",
    "(i.e., the lines indented underneath it) are executed.\n",
    "If the test is false,\n",
    "the body of the `else` is executed instead.\n",
    "Only one or the other is ever executed:"
   ]
  },
  {
   "cell_type": "code",
   "execution_count": 31,
   "metadata": {
    "collapsed": false
   },
   "outputs": [
    {
     "ename": "SyntaxError",
     "evalue": "invalid syntax (<ipython-input-31-c39e952635e1>, line 1)",
     "output_type": "error",
     "traceback": [
      "\u001b[0;36m  File \u001b[0;32m\"<ipython-input-31-c39e952635e1>\"\u001b[0;36m, line \u001b[0;32m1\u001b[0m\n\u001b[0;31m    <img src=\"files/img/python-flowchart-conditional.svg\" alt=\"Executing a Conditional\" />\u001b[0m\n\u001b[0m    ^\u001b[0m\n\u001b[0;31mSyntaxError\u001b[0m\u001b[0;31m:\u001b[0m invalid syntax\n"
     ]
    }
   ],
   "source": [
    "<img src=\"files/img/python-flowchart-conditional.svg\" alt=\"Executing a Conditional\" />"
   ]
  },
  {
   "cell_type": "markdown",
   "metadata": {},
   "source": [
    "We can use another keyword,\n",
    "`elif`,\n",
    "to insert additional tests after the `if`.\n",
    "Python checks each one in order,\n",
    "and executes the code block belonging to the first one that's true.\n",
    "If none of them are,\n",
    "it executes the `else`,\n",
    "or does nothing at all if an `else` hasn't been provided:"
   ]
  },
  {
   "cell_type": "code",
   "execution_count": 32,
   "metadata": {
    "collapsed": false
   },
   "outputs": [
    {
     "name": "stdout",
     "output_type": "stream",
     "text": [
      "-2 is negative\n",
      "-1 is negative\n",
      "0 is zero\n",
      "1 must be positive\n",
      "2 must be positive\n"
     ]
    }
   ],
   "source": [
    "for number in range(-2, 3): # produces -2, -1, 0, 1, 2\n",
    "    if number < 0:\n",
    "        print number, 'is negative'\n",
    "    elif number == 0:\n",
    "        print number, 'is zero'\n",
    "    else:\n",
    "        print number, 'must be positive'"
   ]
  },
  {
   "cell_type": "markdown",
   "metadata": {},
   "source": [
    "We now have everything we need to invert the colors in a color grid:"
   ]
  },
  {
   "cell_type": "code",
   "execution_count": 33,
   "metadata": {
    "collapsed": false
   },
   "outputs": [],
   "source": [
    "def invert(grid):\n",
    "    for x in range(grid.width):\n",
    "        if grid[x, 0] == colors['Orchid']:\n",
    "            grid[x, 0] = colors['Black']\n",
    "        else: # must be black\n",
    "            grid[x, 0] = colors['Orchid']"
   ]
  },
  {
   "cell_type": "markdown",
   "metadata": {},
   "source": [
    "As discussed in the previous lessons,\n",
    "`grid.width` is the width of the grid,\n",
    "so `range(grid.width)` is the sequence of numbers 0, 1, 2, &hellip;, `grid.width`-1,\n",
    "i.e.,\n",
    "the legal X indices for the grid.\n",
    "Inside that loop,\n",
    "we check `grid[x, 0]`'s color.\n",
    "If it's orchid,\n",
    "we turn it black;\n",
    "if it's not orchid,\n",
    "we assume that it's black\n",
    "and make it orchid.\n",
    "To test it,\n",
    "let's look at our original row:"
   ]
  },
  {
   "cell_type": "code",
   "execution_count": 34,
   "metadata": {
    "collapsed": false
   },
   "outputs": [
    {
     "data": {
      "text/html": [
       "<style type=\"text/css\">table.blockgrid {border: none;} .blockgrid tr {border: none;} .blockgrid td {padding: 0px;} #blocks5154f9d6-5f3f-443a-894f-a48ea22c4a9a td {border: 1px solid white;}</style><table id=\"blocks5154f9d6-5f3f-443a-894f-a48ea22c4a9a\" class=\"blockgrid\"><tbody><tr><td title=\"Index: [0, 0]&#10;Color: (0, 0, 0)\" style=\"width: 20px; height: 20px;background-color: rgb(0, 0, 0);\"></td><td title=\"Index: [1, 0]&#10;Color: (218, 112, 214)\" style=\"width: 20px; height: 20px;background-color: rgb(218, 112, 214);\"></td><td title=\"Index: [2, 0]&#10;Color: (0, 0, 0)\" style=\"width: 20px; height: 20px;background-color: rgb(0, 0, 0);\"></td><td title=\"Index: [3, 0]&#10;Color: (0, 0, 0)\" style=\"width: 20px; height: 20px;background-color: rgb(0, 0, 0);\"></td><td title=\"Index: [4, 0]&#10;Color: (0, 0, 0)\" style=\"width: 20px; height: 20px;background-color: rgb(0, 0, 0);\"></td><td title=\"Index: [5, 0]&#10;Color: (218, 112, 214)\" style=\"width: 20px; height: 20px;background-color: rgb(218, 112, 214);\"></td></tr></tbody></table>"
      ],
      "text/plain": [
       "<IPython.core.display.HTML object>"
      ]
     },
     "metadata": {},
     "output_type": "display_data"
    }
   ],
   "source": [
    "row.show()"
   ]
  },
  {
   "cell_type": "markdown",
   "metadata": {},
   "source": [
    "and then look at it again after inverting it:"
   ]
  },
  {
   "cell_type": "code",
   "execution_count": 35,
   "metadata": {
    "collapsed": false
   },
   "outputs": [
    {
     "data": {
      "text/html": [
       "<style type=\"text/css\">table.blockgrid {border: none;} .blockgrid tr {border: none;} .blockgrid td {padding: 0px;} #blocks298d45b9-c00e-4e1d-b331-0475804529c2 td {border: 1px solid white;}</style><table id=\"blocks298d45b9-c00e-4e1d-b331-0475804529c2\" class=\"blockgrid\"><tbody><tr><td title=\"Index: [0, 0]&#10;Color: (218, 112, 214)\" style=\"width: 20px; height: 20px;background-color: rgb(218, 112, 214);\"></td><td title=\"Index: [1, 0]&#10;Color: (218, 112, 214)\" style=\"width: 20px; height: 20px;background-color: rgb(218, 112, 214);\"></td><td title=\"Index: [2, 0]&#10;Color: (218, 112, 214)\" style=\"width: 20px; height: 20px;background-color: rgb(218, 112, 214);\"></td><td title=\"Index: [3, 0]&#10;Color: (218, 112, 214)\" style=\"width: 20px; height: 20px;background-color: rgb(218, 112, 214);\"></td><td title=\"Index: [4, 0]&#10;Color: (218, 112, 214)\" style=\"width: 20px; height: 20px;background-color: rgb(218, 112, 214);\"></td><td title=\"Index: [5, 0]&#10;Color: (218, 112, 214)\" style=\"width: 20px; height: 20px;background-color: rgb(218, 112, 214);\"></td></tr></tbody></table>"
      ],
      "text/plain": [
       "<IPython.core.display.HTML object>"
      ]
     },
     "metadata": {},
     "output_type": "display_data"
    }
   ],
   "source": [
    "invert(row)\n",
    "row.show()"
   ]
  },
  {
   "cell_type": "markdown",
   "metadata": {},
   "source": [
    "Woah, wait, this doesn't look right.\n",
    "After a bit of poking around,\n",
    "though,\n",
    "it turns out that when we select a cell from a grid,\n",
    "we don't get the cell's RGB color value.\n",
    "Instead,\n",
    "we get a `Pixel` that contains both the cell's color and its XY coordinates:"
   ]
  },
  {
   "cell_type": "code",
   "execution_count": null,
   "metadata": {
    "collapsed": false
   },
   "outputs": [],
   "source": [
    "pixel = row[0, 0]\n",
    "help(pixel)"
   ]
  },
  {
   "cell_type": "markdown",
   "metadata": {},
   "source": [
    "What we need to do is compare `colors['Black']` with `grid[x, 0].rgb`.\n",
    "Let's rewrite our function and try it:"
   ]
  },
  {
   "cell_type": "code",
   "execution_count": 37,
   "metadata": {
    "collapsed": false
   },
   "outputs": [
    {
     "data": {
      "text/html": [
       "<style type=\"text/css\">table.blockgrid {border: none;} .blockgrid tr {border: none;} .blockgrid td {padding: 0px;} #blocks7c2fe84d-0f85-4570-9cb2-f226f20b703d td {border: 1px solid white;}</style><table id=\"blocks7c2fe84d-0f85-4570-9cb2-f226f20b703d\" class=\"blockgrid\"><tbody><tr><td title=\"Index: [0, 0]&#10;Color: (0, 0, 0)\" style=\"width: 20px; height: 20px;background-color: rgb(0, 0, 0);\"></td><td title=\"Index: [1, 0]&#10;Color: (0, 0, 0)\" style=\"width: 20px; height: 20px;background-color: rgb(0, 0, 0);\"></td><td title=\"Index: [2, 0]&#10;Color: (0, 0, 0)\" style=\"width: 20px; height: 20px;background-color: rgb(0, 0, 0);\"></td><td title=\"Index: [3, 0]&#10;Color: (0, 0, 0)\" style=\"width: 20px; height: 20px;background-color: rgb(0, 0, 0);\"></td><td title=\"Index: [4, 0]&#10;Color: (0, 0, 0)\" style=\"width: 20px; height: 20px;background-color: rgb(0, 0, 0);\"></td><td title=\"Index: [5, 0]&#10;Color: (0, 0, 0)\" style=\"width: 20px; height: 20px;background-color: rgb(0, 0, 0);\"></td></tr></tbody></table>"
      ],
      "text/plain": [
       "<IPython.core.display.HTML object>"
      ]
     },
     "metadata": {},
     "output_type": "display_data"
    }
   ],
   "source": [
    "def invert(grid):\n",
    "    for x in range(grid.width):\n",
    "        if grid[x, 0].rgb == colors['Orchid']: # comparing to RGB\n",
    "            grid[x, 0] = colors['Black']\n",
    "        else:\n",
    "            grid[x, 0] = colors['Orchid']\n",
    "\n",
    "invert(row)\n",
    "row.show()"
   ]
  },
  {
   "cell_type": "markdown",
   "metadata": {},
   "source": [
    "That seems to have worked&mdash;let's try with the other row:"
   ]
  },
  {
   "cell_type": "code",
   "execution_count": 38,
   "metadata": {
    "collapsed": false
   },
   "outputs": [
    {
     "data": {
      "text/html": [
       "<style type=\"text/css\">table.blockgrid {border: none;} .blockgrid tr {border: none;} .blockgrid td {padding: 0px;} #blocks606f4de6-dda5-4139-be0c-a4bdbf6d8f38 td {border: 1px solid white;}</style><table id=\"blocks606f4de6-dda5-4139-be0c-a4bdbf6d8f38\" class=\"blockgrid\"><tbody><tr><td title=\"Index: [0, 0]&#10;Color: (0, 0, 0)\" style=\"width: 20px; height: 20px;background-color: rgb(0, 0, 0);\"></td><td title=\"Index: [1, 0]&#10;Color: (0, 0, 0)\" style=\"width: 20px; height: 20px;background-color: rgb(0, 0, 0);\"></td><td title=\"Index: [2, 0]&#10;Color: (218, 112, 214)\" style=\"width: 20px; height: 20px;background-color: rgb(218, 112, 214);\"></td><td title=\"Index: [3, 0]&#10;Color: (0, 0, 0)\" style=\"width: 20px; height: 20px;background-color: rgb(0, 0, 0);\"></td><td title=\"Index: [4, 0]&#10;Color: (218, 112, 214)\" style=\"width: 20px; height: 20px;background-color: rgb(218, 112, 214);\"></td><td title=\"Index: [5, 0]&#10;Color: (218, 112, 214)\" style=\"width: 20px; height: 20px;background-color: rgb(218, 112, 214);\"></td><td title=\"Index: [6, 0]&#10;Color: (218, 112, 214)\" style=\"width: 20px; height: 20px;background-color: rgb(218, 112, 214);\"></td><td title=\"Index: [7, 0]&#10;Color: (218, 112, 214)\" style=\"width: 20px; height: 20px;background-color: rgb(218, 112, 214);\"></td></tr></tbody></table>"
      ],
      "text/plain": [
       "<IPython.core.display.HTML object>"
      ]
     },
     "metadata": {},
     "output_type": "display_data"
    }
   ],
   "source": [
    "invert(another_row)\n",
    "another_row.show()"
   ]
  },
  {
   "cell_type": "markdown",
   "metadata": {},
   "source": [
    "That seems to have worked too&mdash;or did it?\n",
    "We can't check by displaying the original state of `another_row`\n",
    "because we've just changed it.\n",
    "What we really ought to do is change our function to create a new grid\n",
    "rather than modifying the one we pass in:"
   ]
  },
  {
   "cell_type": "code",
   "execution_count": 39,
   "metadata": {
    "collapsed": false
   },
   "outputs": [],
   "source": [
    "def invert(grid):\n",
    "    result = ImageGrid(grid.width, 1)\n",
    "    for x in range(grid.width):\n",
    "        if grid[x, 0].rgb == colors['Orchid']:\n",
    "            result[x, 0] = colors['Black']\n",
    "        else:\n",
    "            result[x, 0] = colors['Orchid']\n",
    "    return result"
   ]
  },
  {
   "cell_type": "markdown",
   "metadata": {},
   "source": [
    "Let's try it out:"
   ]
  },
  {
   "cell_type": "code",
   "execution_count": 40,
   "metadata": {
    "collapsed": false
   },
   "outputs": [
    {
     "data": {
      "text/html": [
       "<style type=\"text/css\">table.blockgrid {border: none;} .blockgrid tr {border: none;} .blockgrid td {padding: 0px;} #blocksc15e791e-c822-46a2-b502-9fb1c2444cd5 td {border: 1px solid white;}</style><table id=\"blocksc15e791e-c822-46a2-b502-9fb1c2444cd5\" class=\"blockgrid\"><tbody><tr><td title=\"Index: [0, 0]&#10;Color: (218, 112, 214)\" style=\"width: 20px; height: 20px;background-color: rgb(218, 112, 214);\"></td><td title=\"Index: [1, 0]&#10;Color: (0, 0, 0)\" style=\"width: 20px; height: 20px;background-color: rgb(0, 0, 0);\"></td><td title=\"Index: [2, 0]&#10;Color: (0, 0, 0)\" style=\"width: 20px; height: 20px;background-color: rgb(0, 0, 0);\"></td><td title=\"Index: [3, 0]&#10;Color: (218, 112, 214)\" style=\"width: 20px; height: 20px;background-color: rgb(218, 112, 214);\"></td></tr></tbody></table>"
      ],
      "text/plain": [
       "<IPython.core.display.HTML object>"
      ]
     },
     "metadata": {},
     "output_type": "display_data"
    }
   ],
   "source": [
    "test_case = ImageGrid(4, 1)\n",
    "test_case[0, 0] = colors['Orchid']\n",
    "test_case[3, 0] = colors['Orchid']\n",
    "test_case.show()"
   ]
  },
  {
   "cell_type": "markdown",
   "metadata": {},
   "source": [
    "and:"
   ]
  },
  {
   "cell_type": "code",
   "execution_count": 41,
   "metadata": {
    "collapsed": false
   },
   "outputs": [
    {
     "data": {
      "text/html": [
       "<style type=\"text/css\">table.blockgrid {border: none;} .blockgrid tr {border: none;} .blockgrid td {padding: 0px;} #blockscc8056e7-cfc4-4849-841d-fb345515636e td {border: 1px solid white;}</style><table id=\"blockscc8056e7-cfc4-4849-841d-fb345515636e\" class=\"blockgrid\"><tbody><tr><td title=\"Index: [0, 0]&#10;Color: (0, 0, 0)\" style=\"width: 20px; height: 20px;background-color: rgb(0, 0, 0);\"></td><td title=\"Index: [1, 0]&#10;Color: (218, 112, 214)\" style=\"width: 20px; height: 20px;background-color: rgb(218, 112, 214);\"></td><td title=\"Index: [2, 0]&#10;Color: (218, 112, 214)\" style=\"width: 20px; height: 20px;background-color: rgb(218, 112, 214);\"></td><td title=\"Index: [3, 0]&#10;Color: (0, 0, 0)\" style=\"width: 20px; height: 20px;background-color: rgb(0, 0, 0);\"></td></tr></tbody></table>"
      ],
      "text/plain": [
       "<IPython.core.display.HTML object>"
      ]
     },
     "metadata": {},
     "output_type": "display_data"
    }
   ],
   "source": [
    "changed = invert(test_case)\n",
    "changed.show()"
   ]
  },
  {
   "cell_type": "markdown",
   "metadata": {},
   "source": [
    "and:"
   ]
  },
  {
   "cell_type": "code",
   "execution_count": 42,
   "metadata": {
    "collapsed": false
   },
   "outputs": [
    {
     "data": {
      "text/html": [
       "<style type=\"text/css\">table.blockgrid {border: none;} .blockgrid tr {border: none;} .blockgrid td {padding: 0px;} #blocks764743b7-7f3a-486e-bd07-3d0465018c9b td {border: 1px solid white;}</style><table id=\"blocks764743b7-7f3a-486e-bd07-3d0465018c9b\" class=\"blockgrid\"><tbody><tr><td title=\"Index: [0, 0]&#10;Color: (218, 112, 214)\" style=\"width: 20px; height: 20px;background-color: rgb(218, 112, 214);\"></td><td title=\"Index: [1, 0]&#10;Color: (0, 0, 0)\" style=\"width: 20px; height: 20px;background-color: rgb(0, 0, 0);\"></td><td title=\"Index: [2, 0]&#10;Color: (0, 0, 0)\" style=\"width: 20px; height: 20px;background-color: rgb(0, 0, 0);\"></td><td title=\"Index: [3, 0]&#10;Color: (218, 112, 214)\" style=\"width: 20px; height: 20px;background-color: rgb(218, 112, 214);\"></td></tr></tbody></table>"
      ],
      "text/plain": [
       "<IPython.core.display.HTML object>"
      ]
     },
     "metadata": {},
     "output_type": "display_data"
    }
   ],
   "source": [
    "test_case.show()"
   ]
  },
  {
   "cell_type": "markdown",
   "metadata": {},
   "source": [
    "That's better:\n",
    "we still have our original data to compare our new data to,\n",
    "and if we really want to overwrite the original,\n",
    "we can always do this:"
   ]
  },
  {
   "cell_type": "code",
   "execution_count": 43,
   "metadata": {
    "collapsed": false
   },
   "outputs": [
    {
     "data": {
      "text/html": [
       "<style type=\"text/css\">table.blockgrid {border: none;} .blockgrid tr {border: none;} .blockgrid td {padding: 0px;} #blocks5f3ccdbf-4dbb-4abc-a931-4d7a54f62345 td {border: 1px solid white;}</style><table id=\"blocks5f3ccdbf-4dbb-4abc-a931-4d7a54f62345\" class=\"blockgrid\"><tbody><tr><td title=\"Index: [0, 0]&#10;Color: (0, 0, 0)\" style=\"width: 20px; height: 20px;background-color: rgb(0, 0, 0);\"></td><td title=\"Index: [1, 0]&#10;Color: (218, 112, 214)\" style=\"width: 20px; height: 20px;background-color: rgb(218, 112, 214);\"></td><td title=\"Index: [2, 0]&#10;Color: (218, 112, 214)\" style=\"width: 20px; height: 20px;background-color: rgb(218, 112, 214);\"></td><td title=\"Index: [3, 0]&#10;Color: (0, 0, 0)\" style=\"width: 20px; height: 20px;background-color: rgb(0, 0, 0);\"></td></tr></tbody></table>"
      ],
      "text/plain": [
       "<IPython.core.display.HTML object>"
      ]
     },
     "metadata": {},
     "output_type": "display_data"
    }
   ],
   "source": [
    "test_case = invert(test_case)\n",
    "test_case.show()"
   ]
  },
  {
   "cell_type": "markdown",
   "metadata": {},
   "source": [
    "<hr/>\n",
    "### *When to Mutate*\n",
    "\n",
    "<em>\n",
    "Changing a value in place is called mutating it.\n",
    "It makes programs harder to understand,\n",
    "since readers have to follow a sequence of steps in order to figure out\n",
    "what the value of a variable is,\n",
    "but it is often done for the sake of efficiency.\n",
    "Creating a new four-pixel image grid takes almost no time at all,\n",
    "but copying a multi-gigabyte video in order to eliminate red-eye in a couple of frames\n",
    "would be very slow.\n",
    "</em>\n",
    "<hr/>"
   ]
  },
  {
   "cell_type": "markdown",
   "metadata": {},
   "source": [
    "## Boolean Values and Operators"
   ]
  },
  {
   "cell_type": "markdown",
   "metadata": {},
   "source": [
    "Most people understand that 5+3 produces the value 8,\n",
    "but it can take a while to realize that 5>3 also produces a value.\n",
    "Let's do a few experiments:"
   ]
  },
  {
   "cell_type": "code",
   "execution_count": 44,
   "metadata": {
    "collapsed": false
   },
   "outputs": [
    {
     "name": "stdout",
     "output_type": "stream",
     "text": [
      "5 is greater than 3: True\n",
      "5 is less than 3: False\n"
     ]
    }
   ],
   "source": [
    "print '5 is greater than 3:', 5 > 3\n",
    "print '5 is less than 3:', 5 < 3"
   ]
  },
  {
   "cell_type": "markdown",
   "metadata": {},
   "source": [
    "The result of an expression like 5>3 is the Boolean `True`;\n",
    "the result of 5<3 is the Boolean `False`.\n",
    "Those are the only two values of the type `bool`:\n",
    "there are many thousands of different characters,\n",
    "and millions of integers and floating-point numbers,\n",
    "but `True` and `False` are all that `bool` gets.\n",
    "Like other values,\n",
    "Booleans can be assigned to variables:"
   ]
  },
  {
   "cell_type": "code",
   "execution_count": 45,
   "metadata": {
    "collapsed": false
   },
   "outputs": [
    {
     "name": "stdout",
     "output_type": "stream",
     "text": [
      "answer stored in variable: True\n"
     ]
    }
   ],
   "source": [
    "answer = 5 > 3\n",
    "print 'answer stored in variable:', answer"
   ]
  },
  {
   "cell_type": "markdown",
   "metadata": {},
   "source": [
    "Booleans can also be used directly in conditional statements:"
   ]
  },
  {
   "cell_type": "code",
   "execution_count": 46,
   "metadata": {
    "collapsed": false
   },
   "outputs": [
    {
     "name": "stdout",
     "output_type": "stream",
     "text": [
      "answer is true\n"
     ]
    }
   ],
   "source": [
    "if answer:\n",
    "    print 'answer is true'"
   ]
  },
  {
   "cell_type": "markdown",
   "metadata": {},
   "source": [
    "Note that we do *not* write `if answer == True`.\n",
    "`answer` itself is either `True` or `False`,\n",
    "and that's all `if` needs.\n",
    "As the table below shows,\n",
    "comparing a Boolean to `True` is redundant:"
   ]
  },
  {
   "cell_type": "markdown",
   "metadata": {},
   "source": [
    "<table>\n",
    "<tr><th>Value</th><th>`== True`</th></tr>\n",
    "<tr><td>`True`</td><td>`True`</td></tr>\n",
    "<tr><td>`False`</td><td>`False`</td></tr>\n",
    "</table>"
   ]
  },
  {
   "cell_type": "markdown",
   "metadata": {},
   "source": [
    "Booleans can be manipulated using three operators: `and`, `or`, and `not`.\n",
    "The third is the simplest:\n",
    "if `x` is `True`,\n",
    "`not x` is `False`\n",
    "and vice versa.\n",
    "`and` produces `True` only if both of its operands are `True`,\n",
    "while `or` produces `True` if either or both of its operands are `True`."
   ]
  },
  {
   "cell_type": "markdown",
   "metadata": {},
   "source": [
    "Python evaluates `and` and `or` a bit differently from\n",
    "the way it evaluates arithmetic operators like `+` and `*`.\n",
    "When Python executes `x+y`,\n",
    "it gets the values of `x` and `y` before performing the addition,\n",
    "but is allowed to decide for itself whether to get `x` or `y` first.\n",
    "When it evaluates `x or y`,\n",
    "on the other hand,\n",
    "it always starts by checking whether `x` is `True`.\n",
    "If it is,\n",
    "it stops evaluation right there:\n",
    "since `or` is `True` if either operand is `True`,\n",
    "Python doesn't need to know the value of `y` in order to complete its calculations.\n",
    "If `x` is `False`,\n",
    "on the other hand,\n",
    "Python must get `y` in order to figure out the expression's final value."
   ]
  },
  {
   "cell_type": "markdown",
   "metadata": {},
   "source": [
    "Similarly,\n",
    "when Python evaluates `x and y`,\n",
    "it always starts by getting the value of `x`.\n",
    "If this is `False`,\n",
    "the result is bound to be `False`,\n",
    "so Python doesn't even try to get the value of `y`.\n",
    "This is called short-circuit evaluation,\n",
    "and is often used to do things like this:"
   ]
  },
  {
   "cell_type": "markdown",
   "metadata": {},
   "source": [
    "```python\n",
    "if (number != 0) or (1/number < threshold):\n",
    "    total += 1/number\n",
    "```"
   ]
  },
  {
   "cell_type": "markdown",
   "metadata": {},
   "source": [
    "Without that first test,\n",
    "the `if` would blow up if `number` was zero.\n",
    "Since Python always executes the check for zero *before* checking the reciprocal of `number`,\n",
    "though,\n",
    "this is safe to execute."
   ]
  },
  {
   "cell_type": "markdown",
   "metadata": {},
   "source": [
    "One other thing that's special about Booleans is that\n",
    "values of almost any other type can be used in their place.\n",
    "The numbers 0 and 0.0 are treated as equivalent to `False`,\n",
    "and so is the empty string `''`;\n",
    "all other numbers and strings are equivalent to `True`.\n",
    "This means that we can rewrite:"
   ]
  },
  {
   "cell_type": "markdown",
   "metadata": {},
   "source": [
    "```python\n",
    "if len(some_string) > 0:\n",
    "    ...do something...\n",
    "```"
   ]
  },
  {
   "cell_type": "markdown",
   "metadata": {},
   "source": [
    "as:"
   ]
  },
  {
   "cell_type": "markdown",
   "metadata": {},
   "source": [
    "```python\n",
    "if len(some_string):\n",
    "    ...do something...\n",
    "```"
   ]
  },
  {
   "cell_type": "markdown",
   "metadata": {},
   "source": [
    "or even just as:"
   ]
  },
  {
   "cell_type": "markdown",
   "metadata": {},
   "source": [
    "```python\n",
    "if some_string:\n",
    "    ...do something...\n",
    "```"
   ]
  },
  {
   "cell_type": "markdown",
   "metadata": {},
   "source": [
    "The first version checks that the length of the string is greater than zero,\n",
    "i.e.,\n",
    "that the string contains some characters.\n",
    "The second version checks that the length of the string is not zero;\n",
    "since the length can't be negative,\n",
    "this is the same as checking that it's positive.\n",
    "The final version just checks that `some_string` is not the empty string:\n",
    "it's the shortest,\n",
    "the most efficient to execute,\n",
    "and the one that most experienced Python programmers would write,\n",
    "but it also puts the greatest burden on the reader.\n",
    "Which one you use is up to you,\n",
    "but whatever you do,\n",
    "please be consistent:\n",
    "many studies have shown that people can learn to read almost anything quickly\n",
    "as long as there are patterns for their eyes and brain to follow"
   ]
  },
  {
   "cell_type": "markdown",
   "metadata": {},
   "source": [
    "## Key Points"
   ]
  },
  {
   "cell_type": "markdown",
   "metadata": {},
   "source": [
    "- Use `if`/`elif`/`else` to make choices in programs.\n",
    "- Booleans are useful to determine paths in conditional statements."
   ]
  },
  {
   "cell_type": "markdown",
   "metadata": {},
   "source": [
    "# Choose Your Own Adventure!"
   ]
  },
  {
   "cell_type": "code",
   "execution_count": 50,
   "metadata": {
    "collapsed": false
   },
   "outputs": [
    {
     "name": "stdout",
     "output_type": "stream",
     "text": [
      "You've just entered a choose your own adventure!\n",
      "You appear in a dark room.  There are tunnels facing north, east, south, and west.  Which one do you take?\n",
      "Type north, east, south, or west and hit 'Enter'.north\n",
      "Cupcake room!  Best room ever!\n"
     ]
    }
   ],
   "source": [
    "def adventure():\n",
    "    print \"You've just entered a choose your own adventure!\"\n",
    "    print \"You appear in a dark room.  There are tunnels facing north, east, south, and west.  Which one do you take?\"\n",
    "    answer = raw_input(\"Type north, east, south, or west and hit 'Enter'.\").lower()\n",
    "    if answer == \"north\":\n",
    "        print \"Cupcake room!  Best room ever!\"\n",
    "    elif answer == \"east\":\n",
    "        print \"Dark gloomy tunnel.  You feel bored.\"\n",
    "    elif answer == \"south\":\n",
    "        print \"You appear in your childhood living room.  You look around confused.\"\n",
    "    elif answer == \"west\":\n",
    "        print \"A puzzled-looking unicorn stares out at you.\"\n",
    "    else:\n",
    "        print \"You didn't pick a direction! Try again.\"\n",
    "        adventure()\n",
    "\n",
    "adventure()"
   ]
  },
  {
   "cell_type": "markdown",
   "metadata": {},
   "source": [
    "Try expanding the choose your own adventure to continue spelunking (ex. use booleans, make new functions for new rooms, etc.)"
   ]
  }
 ],
 "metadata": {
  "kernelspec": {
   "display_name": "Python 2",
   "language": "python",
   "name": "python2"
  },
  "language_info": {
   "codemirror_mode": {
    "name": "ipython",
    "version": 2
   },
   "file_extension": ".py",
   "mimetype": "text/x-python",
   "name": "python",
   "nbconvert_exporter": "python",
   "pygments_lexer": "ipython2",
   "version": "2.7.9"
  }
 },
 "nbformat": 4,
 "nbformat_minor": 0
}
